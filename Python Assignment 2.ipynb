{
 "cells": [
  {
   "cell_type": "code",
   "execution_count": 1,
   "id": "c2e1a196",
   "metadata": {},
   "outputs": [
    {
     "name": "stdout",
     "output_type": "stream",
     "text": [
      "86.66666666666667\n",
      "Grade A+\n"
     ]
    }
   ],
   "source": [
    "Eng_marks = 74;\n",
    "Math_marks = 97;\n",
    "isl_marks = 89;\n",
    "percentage = (Eng_marks + Math_marks + isl_marks) / 300 * 100\n",
    "print (percentage)\n",
    "\n",
    "if percentage < 100 and percentage > 80:\n",
    "    print(\"Grade A+\")\n",
    "elif percentage < 80 and percentage > 70:\n",
    "    print(\"Grade A\")\n",
    "elif percentage < 70 and percentage > 60:\n",
    "    print(\"Grade B\")\n",
    "elif percentage < 60 and percentage > 50:\n",
    "    print(\"Grade C\")\n",
    "elif percentage < 50 and percentage > 40:\n",
    "    print(\"Grade D\")\n",
    "elif percentage < 40 and percentage > 33:\n",
    "    print(\"Grade E\")\n",
    "if percentage < 33:\n",
    "    print(\"Fail\")"
   ]
  },
  {
   "cell_type": "code",
   "execution_count": null,
   "id": "70f727fb",
   "metadata": {},
   "outputs": [],
   "source": []
  }
 ],
 "metadata": {
  "kernelspec": {
   "display_name": "Python 3",
   "language": "python",
   "name": "python3"
  },
  "language_info": {
   "codemirror_mode": {
    "name": "ipython",
    "version": 3
   },
   "file_extension": ".py",
   "mimetype": "text/x-python",
   "name": "python",
   "nbconvert_exporter": "python",
   "pygments_lexer": "ipython3",
   "version": "3.8.8"
  }
 },
 "nbformat": 4,
 "nbformat_minor": 5
}
