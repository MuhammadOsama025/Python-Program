{
 "cells": [
  {
   "cell_type": "code",
   "execution_count": 1,
   "id": "ca6773ac",
   "metadata": {},
   "outputs": [],
   "source": [
    "from bs4 import BeautifulSoup\n",
    "import requests\n",
    "import pandas as pd"
   ]
  },
  {
   "cell_type": "code",
   "execution_count": 2,
   "id": "3bf7c909",
   "metadata": {},
   "outputs": [
    {
     "data": {
      "text/plain": [
       "200"
      ]
     },
     "execution_count": 2,
     "metadata": {},
     "output_type": "execute_result"
    }
   ],
   "source": [
    "page = requests.get(url=\"https://en.wikipedia.org/wiki/Web_scraping\")\n",
    "page.status_code"
   ]
  },
  {
   "cell_type": "code",
   "execution_count": 3,
   "id": "fbada165",
   "metadata": {},
   "outputs": [
    {
     "name": "stdout",
     "output_type": "stream",
     "text": [
      "Web scraping\n"
     ]
    }
   ],
   "source": [
    "soup = BeautifulSoup(page.content, \"html.parser\")\n",
    "\n",
    "title = soup.find(\"h1\", id=\"firstHeading\").text\n",
    "\n",
    "print(title)"
   ]
  },
  {
   "cell_type": "code",
   "execution_count": 4,
   "id": "6cd2b6fe",
   "metadata": {},
   "outputs": [],
   "source": [
    "data = soup.find(\"div\", id=\"mw-content-text\").text\n",
    "# print(data)"
   ]
  },
  {
   "cell_type": "code",
   "execution_count": 5,
   "id": "750987ed",
   "metadata": {},
   "outputs": [],
   "source": [
    "# list(soup.children)"
   ]
  },
  {
   "cell_type": "code",
   "execution_count": 6,
   "id": "3750a8be",
   "metadata": {},
   "outputs": [
    {
     "name": "stdout",
     "output_type": "stream",
     "text": [
      "['a', 'b', 'bdi', 'body', 'br', 'cite', 'div', 'footer', 'form', 'h1', 'h2', 'h3', 'head', 'html', 'i', 'img', 'input', 'label', 'li', 'link', 'meta', 'nav', 'noscript', 'ol', 'p', 'script', 'small', 'span', 'style', 'sup', 'table', 'tbody', 'td', 'title', 'tr', 'ul']\n"
     ]
    }
   ],
   "source": [
    "tags = []\n",
    "\n",
    "for tag in soup.findAll(True):\n",
    "  tags.append(tag.name)\n",
    "\n",
    "tag_list = list(dict.fromkeys(tags))\n",
    "tag_list.sort()\n",
    "print(tag_list)"
   ]
  },
  {
   "cell_type": "code",
   "execution_count": 8,
   "id": "fbc2ecfd",
   "metadata": {},
   "outputs": [],
   "source": [
    "data = pd.read_excel(\"data.xlsx\")\n",
    "# data"
   ]
  },
  {
   "cell_type": "code",
   "execution_count": 9,
   "id": "48808697",
   "metadata": {},
   "outputs": [],
   "source": [
    "def change(val):\n",
    "    val2 = val.split(\" \")\n",
    "    val2 = \"_\".join(val2)\n",
    "    # print(val2)\n",
    "    return val2"
   ]
  },
  {
   "cell_type": "code",
   "execution_count": 10,
   "id": "5a59193b",
   "metadata": {},
   "outputs": [],
   "source": [
    "data[\"Names_New\"] = data['Names'].apply(change)"
   ]
  },
  {
   "cell_type": "code",
   "execution_count": 11,
   "id": "807c0188",
   "metadata": {},
   "outputs": [
    {
     "data": {
      "text/html": [
       "<div>\n",
       "<style scoped>\n",
       "    .dataframe tbody tr th:only-of-type {\n",
       "        vertical-align: middle;\n",
       "    }\n",
       "\n",
       "    .dataframe tbody tr th {\n",
       "        vertical-align: top;\n",
       "    }\n",
       "\n",
       "    .dataframe thead th {\n",
       "        text-align: right;\n",
       "    }\n",
       "</style>\n",
       "<table border=\"1\" class=\"dataframe\">\n",
       "  <thead>\n",
       "    <tr style=\"text-align: right;\">\n",
       "      <th></th>\n",
       "      <th>Names</th>\n",
       "      <th>Names_New</th>\n",
       "    </tr>\n",
       "  </thead>\n",
       "  <tbody>\n",
       "    <tr>\n",
       "      <th>0</th>\n",
       "      <td>Artificial Intelligence</td>\n",
       "      <td>Artificial_Intelligence</td>\n",
       "    </tr>\n",
       "    <tr>\n",
       "      <th>1</th>\n",
       "      <td>Blockchain</td>\n",
       "      <td>Blockchain</td>\n",
       "    </tr>\n",
       "    <tr>\n",
       "      <th>2</th>\n",
       "      <td>Internet of things</td>\n",
       "      <td>Internet_of_things</td>\n",
       "    </tr>\n",
       "    <tr>\n",
       "      <th>3</th>\n",
       "      <td>Cloud Computing</td>\n",
       "      <td>Cloud_Computing</td>\n",
       "    </tr>\n",
       "    <tr>\n",
       "      <th>4</th>\n",
       "      <td>Amazon</td>\n",
       "      <td>Amazon</td>\n",
       "    </tr>\n",
       "  </tbody>\n",
       "</table>\n",
       "</div>"
      ],
      "text/plain": [
       "                     Names                Names_New\n",
       "0  Artificial Intelligence  Artificial_Intelligence\n",
       "1               Blockchain               Blockchain\n",
       "2       Internet of things       Internet_of_things\n",
       "3          Cloud Computing          Cloud_Computing\n",
       "4                   Amazon                   Amazon"
      ]
     },
     "execution_count": 11,
     "metadata": {},
     "output_type": "execute_result"
    }
   ],
   "source": [
    "data.head()"
   ]
  },
  {
   "cell_type": "code",
   "execution_count": 12,
   "id": "478d1460",
   "metadata": {},
   "outputs": [
    {
     "data": {
      "text/plain": [
       "10"
      ]
     },
     "execution_count": 12,
     "metadata": {},
     "output_type": "execute_result"
    }
   ],
   "source": [
    "names = list(data[\"Names_New\"]) \n",
    "len(names)"
   ]
  },
  {
   "cell_type": "code",
   "execution_count": 14,
   "id": "37a3a082",
   "metadata": {},
   "outputs": [],
   "source": [
    "tables = [[],[],[],[],[],[],[],[],[],[]]\n",
    "h1s = [[],[],[],[],[],[],[],[],[],[]]\n",
    "h2s = [[],[],[],[],[],[],[],[],[],[]]\n",
    "h3s = [[],[],[],[],[],[],[],[],[],[]]\n",
    "h4s = [[],[],[],[],[],[],[],[],[],[]]\n",
    "aS = [[],[],[],[],[],[],[],[],[],[]]\n",
    "italicS =[[],[],[],[],[],[],[],[],[],[]]\n",
    "pS=[[],[],[],[],[],[],[],[],[],[]]\n",
    "\n",
    "for i in range(len(names)):\n",
    "    page = requests.get(f\"https://en.wikipedia.org/wiki/{i}\")\n",
    "    soup = BeautifulSoup(page.content,'html.parser')\n",
    "\n",
    "    for table in soup.find_all('table'):\n",
    "      tables[i].append(table.text)\n",
    "\n",
    "    for h2 in soup.find_all('h2'):\n",
    "      h2s[i].append(h2.text)\n",
    "\n",
    "    for h1 in soup.find_all('h1'):\n",
    "      h1s[i].append(h1.text)\n",
    "\n",
    "    for h3 in soup.find_all('h3'):\n",
    "      h3s[i].append(h3.text)\n",
    "\n",
    "    for h4 in soup.find_all('h4'):\n",
    "      h4s[i].append(h4.text)\n",
    "\n",
    "    for a in soup.find_all('a'):\n",
    "      aS[i].append(a.text)\n",
    "\n",
    "    for p in soup.find_all('p'):\n",
    "      pS[i].append(p.text)\n",
    "\n",
    "    for italic in soup.find_all('i'):\n",
    "      italicS[i].append(italic.text)"
   ]
  },
  {
   "cell_type": "code",
   "execution_count": 15,
   "id": "cae08143",
   "metadata": {},
   "outputs": [
    {
     "name": "stdout",
     "output_type": "stream",
     "text": [
      "tables===> 10\n",
      "h1s===> 10\n",
      "h2s===> 10\n",
      "h3s===> 10\n",
      "h4s===> 10\n",
      "aS===> 10\n",
      "italicS===> 10\n",
      "pS===> 10\n"
     ]
    }
   ],
   "source": [
    "print(\"tables===>\",len(tables))\n",
    "print(\"h1s===>\",len(h1s))\n",
    "print(\"h2s===>\",len(h2s))\n",
    "print(\"h3s===>\",len(h3s))\n",
    "print(\"h4s===>\",len(h4s))\n",
    "print(\"aS===>\",len(aS))\n",
    "print(\"italicS===>\",len(italicS))\n",
    "print(\"pS===>\",len(pS))"
   ]
  },
  {
   "cell_type": "code",
   "execution_count": 17,
   "id": "4ae4cabd",
   "metadata": {},
   "outputs": [],
   "source": [
    "all_data = {\n",
    "    \"tables\":tables,\n",
    "    \"Heading1\":h1s,\n",
    "    \"Heading2\":h2s,\n",
    "    \"Heading3\":h3s,\n",
    "    \"Heading4\":h4s,\n",
    "    \"Anchor\":aS,\n",
    "    \"Italic\":italicS,\n",
    "    \"Paragraph\":pS\n",
    "    }"
   ]
  },
  {
   "cell_type": "code",
   "execution_count": 18,
   "id": "3fd6f52a",
   "metadata": {},
   "outputs": [
    {
     "name": "stdout",
     "output_type": "stream",
     "text": [
      "                                              tables Heading1  \\\n",
      "0  [\\n← −1 \\n0\\n 1 →\\n -1 0 1 2 3 4 5 6 7 8 9 → L...      [0]   \n",
      "1  [\\n← 0 \\n1\\n 2 →\\n -1 0 1 2 3 4 5 6 7 8 9 → Li...      [1]   \n",
      "2  [\\n← 1 \\n2\\n 3 →\\n -1 0 1 2 3 4 5 6 7 8 9 → Li...      [2]   \n",
      "3  [\\n← 2 \\n3\\n 4 →\\n -1 0 1 2 3 4 5 6 7 8 9 → Li...      [3]   \n",
      "4  [\\n← 3 \\n4\\n 5 →\\n -1 0 1 2 3 4 5 6 7 8 9 → Li...      [4]   \n",
      "5  [\\n← 4 \\n5\\n 6 →\\n -1 0 1 2 3 4 5 6 7 8 9 → Li...      [5]   \n",
      "6  [\\n← 5 \\n6\\n 7 →\\n -1 0 1 2 3 4 5 6 7 8 9 → Li...      [6]   \n",
      "7  [It has been suggested that Symbolism of the n...      [7]   \n",
      "8  [\\n← 7 \\n8\\n 9 →\\n -1 0 1 2 3 4 5 6 7 8 9 → Li...      [8]   \n",
      "9  [\\n← 8 \\n9\\n 10 →\\n -1 0 1 2 3 4 5 6 7 8 9 → L...      [9]   \n",
      "\n",
      "                                            Heading2  \\\n",
      "0  [Contents, Etymology, History, Mathematics, Ph...   \n",
      "1  [Contents, Etymology, As a number, As a digit,...   \n",
      "2  [Contents, Evolution, In mathematics, In scien...   \n",
      "3  [Contents, Evolution of the Arabic digit[edit]...   \n",
      "4  [Contents, In mathematics, List of basic calcu...   \n",
      "5  [Contents, In mathematics[edit], Evolution of ...   \n",
      "6  [Contents, In mathematics, Greek and Latin wor...   \n",
      "7  [Contents, Evolution of the Arabic digit, Math...   \n",
      "8  [Contents, In mathematics, Etymology, Evolutio...   \n",
      "9  [Contents, Mathematics, List of basic calculat...   \n",
      "\n",
      "                                            Heading3  \\\n",
      "0  [Modern usage, Ancient Near East, Pre-Columbia...   \n",
      "1  [Definitions, Properties, Primality, Table of ...   \n",
      "2       [Arabic digit, Etymology of two, \\nSearch\\n]   \n",
      "3  [Numeral systems[edit], List of basic calculat...   \n",
      "4  [Buddhism, Judeo-Christian symbolism, Hinduism...   \n",
      "5  [List of basic calculations[edit], Astronomy[e...   \n",
      "6  [List of basic calculations, Hexa, The prefix ...   \n",
      "7  [Basic calculations, In Psychology, In literat...   \n",
      "8  [List of basic calculations, Physics, Astronom...   \n",
      "9  [Indian culture, Chinese culture, Ancient Egyp...   \n",
      "\n",
      "                                            Heading4  \\\n",
      "0  [Epigraphy, Transmission to Islamic culture, T...   \n",
      "1                                                 []   \n",
      "2                                                 []   \n",
      "3                                                 []   \n",
      "4                                                 []   \n",
      "5                   [Groups[edit], Other uses[edit]]   \n",
      "6                                                 []   \n",
      "7                                                 []   \n",
      "8  [Hinduism, Buddhism, Judaism, Christianity, Is...   \n",
      "9                                                 []   \n",
      "\n",
      "                                              Anchor  \\\n",
      "0  [, , Jump to navigation, Jump to search, O, O ...   \n",
      "1  [, , Jump to navigation, Jump to search, AD 1,...   \n",
      "2  [, , Jump to navigation, Jump to search, 2 BC,...   \n",
      "3  [, Jump to navigation, Jump to search, AD 3, 3...   \n",
      "4  [, , Jump to navigation, Jump to search, AD 4,...   \n",
      "5  [, Jump to navigation, Jump to search, AD 5, 5...   \n",
      "6  [, , Jump to navigation, Jump to search, AD 6,...   \n",
      "7  [, , Jump to navigation, Jump to search, AD 7,...   \n",
      "8  [, , Jump to navigation, Jump to search, AD 8,...   \n",
      "9  [, , Jump to navigation, Jump to search, AD 9,...   \n",
      "\n",
      "                                              Italic  \\\n",
      "0  [Ought, aught, cipher, zero, zéro, zero, zever...   \n",
      "1  [unit length, one, an, *ainaz, *ainaz, *oi-no-...   \n",
      "2  [two, two, two, twā, tū, twēġen, who, w, twā, ...   \n",
      "3  [e, n, n, n, n, n, n, n, n, n, n, n, n, n, tri...   \n",
      "4  [p, n, n, a, n, b, tetragon, n, n, An, x, y, z...   \n",
      "5  [p, only, S, n, n, n, K, x, x, x, x, x, pancha...   \n",
      "6  [Hexa, Hexa, sex-, q, n, n, S, S, n, n, n, A, ...   \n",
      "7  [Symbolism of the number 7,  Proposed since Au...   \n",
      "8  [O, Cl, p, q, Cl, p, q, x, x, x, x, x, eight, ...   \n",
      "9  [nine, p, n, n, n, n, N, N, x, x, x, x, x, x, ...   \n",
      "\n",
      "                                           Paragraph  \n",
      "0  [\\n, 0 (zero) is a number,[1] and the numerica...  \n",
      "1  [\\n, 1 (one, also called unit, and unity) is a...  \n",
      "2  [\\n, 2 (two) is a number, numeral and digit. I...  \n",
      "3  [3 (three) is a number, numeral and digit. It ...  \n",
      "4  [\\n, 4 (four) is a number, numeral and digit. ...  \n",
      "5  [5 (five) is a number, numeral and digit. It i...  \n",
      "6  [\\n, 6 (six) is the natural number following 5...  \n",
      "7  [\\n, 7 (seven) is the natural number following...  \n",
      "8  [\\n, 8 (eight) is the natural number following...  \n",
      "9  [\\n, 9 (nine) is the natural number following ...  \n"
     ]
    }
   ],
   "source": [
    "df = pd.DataFrame(all_data)\n",
    "print(df)"
   ]
  },
  {
   "cell_type": "code",
   "execution_count": 20,
   "id": "0e916365",
   "metadata": {},
   "outputs": [],
   "source": [
    "df.to_csv(\"scrapped_data.csv\")"
   ]
  }
 ],
 "metadata": {
  "kernelspec": {
   "display_name": "Python 3 (ipykernel)",
   "language": "python",
   "name": "python3"
  },
  "language_info": {
   "codemirror_mode": {
    "name": "ipython",
    "version": 3
   },
   "file_extension": ".py",
   "mimetype": "text/x-python",
   "name": "python",
   "nbconvert_exporter": "python",
   "pygments_lexer": "ipython3",
   "version": "3.9.7"
  }
 },
 "nbformat": 4,
 "nbformat_minor": 5
}
