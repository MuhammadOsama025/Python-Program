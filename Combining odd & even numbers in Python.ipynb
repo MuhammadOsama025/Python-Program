{
 "cells": [
  {
   "cell_type": "code",
   "execution_count": 1,
   "id": "e1b3a151",
   "metadata": {},
   "outputs": [
    {
     "name": "stdout",
     "output_type": "stream",
     "text": [
      "list after concatenation [0, 2, 4, 6, 8, 10, 1, 3, 5, 7, 9]\n",
      "list after sorting [0, 1, 2, 3, 4, 5, 6, 7, 8, 9, 10]\n"
     ]
    }
   ],
   "source": [
    "even_list = [0,2,4,6,8,10]\n",
    "odd_list = [1,3,5,7,9]\n",
    "\n",
    "combine_list = even_list + odd_list\n",
    "\n",
    "print(\"list after concatenation\", combine_list)\n",
    "\n",
    "combine_list.sort()\n",
    "\n",
    "print(\"list after sorting\",combine_list)"
   ]
  },
  {
   "cell_type": "code",
   "execution_count": null,
   "id": "643c04f4",
   "metadata": {},
   "outputs": [],
   "source": []
  }
 ],
 "metadata": {
  "kernelspec": {
   "display_name": "Python 3",
   "language": "python",
   "name": "python3"
  },
  "language_info": {
   "codemirror_mode": {
    "name": "ipython",
    "version": 3
   },
   "file_extension": ".py",
   "mimetype": "text/x-python",
   "name": "python",
   "nbconvert_exporter": "python",
   "pygments_lexer": "ipython3",
   "version": "3.8.8"
  }
 },
 "nbformat": 4,
 "nbformat_minor": 5
}
